{
 "cells": [
  {
   "cell_type": "markdown",
   "metadata": {},
   "source": [
    "# Caçador de OVNIs"
   ]
  },
  {
   "cell_type": "markdown",
   "metadata": {},
   "source": [
    "Em que estado e horário é mais \"fácil\" de avistar um OVNI nos EUA?"
   ]
  },
  {
   "cell_type": "markdown",
   "metadata": {},
   "source": [
    "### Importando o que importa"
   ]
  },
  {
   "cell_type": "code",
   "execution_count": 26,
   "metadata": {},
   "outputs": [],
   "source": [
    "import pandas as pd\n",
    "import matplotlib.pyplot as plt\n",
    "\n",
    "import warnings\n",
    "warnings.simplefilter(action='ignore')"
   ]
  },
  {
   "cell_type": "markdown",
   "metadata": {},
   "source": [
    "### Lendo o arquivo com todas as ocorrências"
   ]
  },
  {
   "cell_type": "code",
   "execution_count": 2,
   "metadata": {},
   "outputs": [],
   "source": [
    "df = pd.read_json('ovnis.json')"
   ]
  },
  {
   "cell_type": "markdown",
   "metadata": {},
   "source": [
    "### Visualizando uma amostra dos dados"
   ]
  },
  {
   "cell_type": "code",
   "execution_count": 3,
   "metadata": {},
   "outputs": [
    {
     "data": {
      "text/html": [
       "<div>\n",
       "<style scoped>\n",
       "    .dataframe tbody tr th:only-of-type {\n",
       "        vertical-align: middle;\n",
       "    }\n",
       "\n",
       "    .dataframe tbody tr th {\n",
       "        vertical-align: top;\n",
       "    }\n",
       "\n",
       "    .dataframe thead th {\n",
       "        text-align: right;\n",
       "    }\n",
       "</style>\n",
       "<table border=\"1\" class=\"dataframe\">\n",
       "  <thead>\n",
       "    <tr style=\"text-align: right;\">\n",
       "      <th></th>\n",
       "      <th>occured</th>\n",
       "      <th>city</th>\n",
       "      <th>state</th>\n",
       "      <th>shape</th>\n",
       "      <th>duration</th>\n",
       "      <th>summary</th>\n",
       "      <th>posted</th>\n",
       "    </tr>\n",
       "  </thead>\n",
       "  <tbody>\n",
       "    <tr>\n",
       "      <th>0</th>\n",
       "      <td>12/22/19 23:00</td>\n",
       "      <td>Clarkston</td>\n",
       "      <td>MI</td>\n",
       "      <td>Circle</td>\n",
       "      <td>5 minutes</td>\n",
       "      <td>7 white lights seen to the W side of the state...</td>\n",
       "      <td>12/22/19</td>\n",
       "    </tr>\n",
       "    <tr>\n",
       "      <th>1</th>\n",
       "      <td>12/22/19 22:15</td>\n",
       "      <td>Kennett Square</td>\n",
       "      <td>PA</td>\n",
       "      <td>Triangle</td>\n",
       "      <td>3min</td>\n",
       "      <td>Witness to triangle style craft. View was from...</td>\n",
       "      <td>12/22/19</td>\n",
       "    </tr>\n",
       "    <tr>\n",
       "      <th>2</th>\n",
       "      <td>12/22/19 21:00</td>\n",
       "      <td>Bethlehem</td>\n",
       "      <td>PA</td>\n",
       "      <td>Unknown</td>\n",
       "      <td>Hours</td>\n",
       "      <td>Hello, My wife and I been seeing these objects...</td>\n",
       "      <td>12/22/19</td>\n",
       "    </tr>\n",
       "    <tr>\n",
       "      <th>3</th>\n",
       "      <td>12/22/19 20:35</td>\n",
       "      <td>Fishkill</td>\n",
       "      <td>NY</td>\n",
       "      <td>Disk</td>\n",
       "      <td>1 minute</td>\n",
       "      <td>Disc Shape Hovering,  ((Starlink satellites?))</td>\n",
       "      <td>12/22/19</td>\n",
       "    </tr>\n",
       "    <tr>\n",
       "      <th>4</th>\n",
       "      <td>12/22/19 20:00</td>\n",
       "      <td>Strathroy (Canada)</td>\n",
       "      <td>ON</td>\n",
       "      <td>Light</td>\n",
       "      <td>15 minutes</td>\n",
       "      <td>Chain of white lights following each other upw...</td>\n",
       "      <td>12/22/19</td>\n",
       "    </tr>\n",
       "  </tbody>\n",
       "</table>\n",
       "</div>"
      ],
      "text/plain": [
       "          occured                city state     shape    duration  \\\n",
       "0  12/22/19 23:00           Clarkston    MI    Circle   5 minutes   \n",
       "1  12/22/19 22:15      Kennett Square    PA  Triangle        3min   \n",
       "2  12/22/19 21:00           Bethlehem    PA   Unknown       Hours   \n",
       "3  12/22/19 20:35            Fishkill    NY      Disk    1 minute   \n",
       "4  12/22/19 20:00  Strathroy (Canada)    ON     Light  15 minutes   \n",
       "\n",
       "                                             summary    posted  \n",
       "0  7 white lights seen to the W side of the state...  12/22/19  \n",
       "1  Witness to triangle style craft. View was from...  12/22/19  \n",
       "2  Hello, My wife and I been seeing these objects...  12/22/19  \n",
       "3     Disc Shape Hovering,  ((Starlink satellites?))  12/22/19  \n",
       "4  Chain of white lights following each other upw...  12/22/19  "
      ]
     },
     "execution_count": 3,
     "metadata": {},
     "output_type": "execute_result"
    }
   ],
   "source": [
    "df.head()"
   ]
  },
  {
   "cell_type": "markdown",
   "metadata": {},
   "source": [
    "### Renomeando as colunas"
   ]
  },
  {
   "cell_type": "code",
   "execution_count": 4,
   "metadata": {},
   "outputs": [],
   "source": [
    "df.columns = ['ocorrido', 'cidade', 'estado', 'forma', 'duração', 'relato', 'postado']"
   ]
  },
  {
   "cell_type": "markdown",
   "metadata": {},
   "source": [
    "### Convertendo as colunas com datas de <code>string</code> para <code>datetime</code>"
   ]
  },
  {
   "cell_type": "code",
   "execution_count": 5,
   "metadata": {},
   "outputs": [],
   "source": [
    "df['ocorrido'] = pd.to_datetime(df['ocorrido'])\n",
    "df['postado'] = pd.to_datetime(df['postado'])"
   ]
  },
  {
   "cell_type": "code",
   "execution_count": 6,
   "metadata": {},
   "outputs": [
    {
     "data": {
      "text/html": [
       "<div>\n",
       "<style scoped>\n",
       "    .dataframe tbody tr th:only-of-type {\n",
       "        vertical-align: middle;\n",
       "    }\n",
       "\n",
       "    .dataframe tbody tr th {\n",
       "        vertical-align: top;\n",
       "    }\n",
       "\n",
       "    .dataframe thead th {\n",
       "        text-align: right;\n",
       "    }\n",
       "</style>\n",
       "<table border=\"1\" class=\"dataframe\">\n",
       "  <thead>\n",
       "    <tr style=\"text-align: right;\">\n",
       "      <th></th>\n",
       "      <th>ocorrido</th>\n",
       "      <th>cidade</th>\n",
       "      <th>estado</th>\n",
       "      <th>forma</th>\n",
       "      <th>duração</th>\n",
       "      <th>relato</th>\n",
       "      <th>postado</th>\n",
       "    </tr>\n",
       "  </thead>\n",
       "  <tbody>\n",
       "    <tr>\n",
       "      <th>0</th>\n",
       "      <td>2019-12-22 23:00:00</td>\n",
       "      <td>Clarkston</td>\n",
       "      <td>MI</td>\n",
       "      <td>Circle</td>\n",
       "      <td>5 minutes</td>\n",
       "      <td>7 white lights seen to the W side of the state...</td>\n",
       "      <td>2019-12-22</td>\n",
       "    </tr>\n",
       "    <tr>\n",
       "      <th>1</th>\n",
       "      <td>2019-12-22 22:15:00</td>\n",
       "      <td>Kennett Square</td>\n",
       "      <td>PA</td>\n",
       "      <td>Triangle</td>\n",
       "      <td>3min</td>\n",
       "      <td>Witness to triangle style craft. View was from...</td>\n",
       "      <td>2019-12-22</td>\n",
       "    </tr>\n",
       "    <tr>\n",
       "      <th>2</th>\n",
       "      <td>2019-12-22 21:00:00</td>\n",
       "      <td>Bethlehem</td>\n",
       "      <td>PA</td>\n",
       "      <td>Unknown</td>\n",
       "      <td>Hours</td>\n",
       "      <td>Hello, My wife and I been seeing these objects...</td>\n",
       "      <td>2019-12-22</td>\n",
       "    </tr>\n",
       "    <tr>\n",
       "      <th>3</th>\n",
       "      <td>2019-12-22 20:35:00</td>\n",
       "      <td>Fishkill</td>\n",
       "      <td>NY</td>\n",
       "      <td>Disk</td>\n",
       "      <td>1 minute</td>\n",
       "      <td>Disc Shape Hovering,  ((Starlink satellites?))</td>\n",
       "      <td>2019-12-22</td>\n",
       "    </tr>\n",
       "    <tr>\n",
       "      <th>4</th>\n",
       "      <td>2019-12-22 20:00:00</td>\n",
       "      <td>Strathroy (Canada)</td>\n",
       "      <td>ON</td>\n",
       "      <td>Light</td>\n",
       "      <td>15 minutes</td>\n",
       "      <td>Chain of white lights following each other upw...</td>\n",
       "      <td>2019-12-22</td>\n",
       "    </tr>\n",
       "  </tbody>\n",
       "</table>\n",
       "</div>"
      ],
      "text/plain": [
       "             ocorrido              cidade estado     forma     duração  \\\n",
       "0 2019-12-22 23:00:00           Clarkston     MI    Circle   5 minutes   \n",
       "1 2019-12-22 22:15:00      Kennett Square     PA  Triangle        3min   \n",
       "2 2019-12-22 21:00:00           Bethlehem     PA   Unknown       Hours   \n",
       "3 2019-12-22 20:35:00            Fishkill     NY      Disk    1 minute   \n",
       "4 2019-12-22 20:00:00  Strathroy (Canada)     ON     Light  15 minutes   \n",
       "\n",
       "                                              relato    postado  \n",
       "0  7 white lights seen to the W side of the state... 2019-12-22  \n",
       "1  Witness to triangle style craft. View was from... 2019-12-22  \n",
       "2  Hello, My wife and I been seeing these objects... 2019-12-22  \n",
       "3     Disc Shape Hovering,  ((Starlink satellites?)) 2019-12-22  \n",
       "4  Chain of white lights following each other upw... 2019-12-22  "
      ]
     },
     "execution_count": 6,
     "metadata": {},
     "output_type": "execute_result"
    }
   ],
   "source": [
    "df.head()"
   ]
  },
  {
   "cell_type": "markdown",
   "metadata": {},
   "source": [
    "### Limpando os relatos com dados faltantes"
   ]
  },
  {
   "cell_type": "code",
   "execution_count": 7,
   "metadata": {},
   "outputs": [],
   "source": [
    "df_dropped = df.dropna()"
   ]
  },
  {
   "cell_type": "code",
   "execution_count": 8,
   "metadata": {},
   "outputs": [
    {
     "data": {
      "text/html": [
       "<div>\n",
       "<style scoped>\n",
       "    .dataframe tbody tr th:only-of-type {\n",
       "        vertical-align: middle;\n",
       "    }\n",
       "\n",
       "    .dataframe tbody tr th {\n",
       "        vertical-align: top;\n",
       "    }\n",
       "\n",
       "    .dataframe thead th {\n",
       "        text-align: right;\n",
       "    }\n",
       "</style>\n",
       "<table border=\"1\" class=\"dataframe\">\n",
       "  <thead>\n",
       "    <tr style=\"text-align: right;\">\n",
       "      <th></th>\n",
       "      <th>ocorrido</th>\n",
       "      <th>cidade</th>\n",
       "      <th>estado</th>\n",
       "      <th>forma</th>\n",
       "      <th>duração</th>\n",
       "      <th>relato</th>\n",
       "      <th>postado</th>\n",
       "    </tr>\n",
       "  </thead>\n",
       "  <tbody>\n",
       "    <tr>\n",
       "      <th>0</th>\n",
       "      <td>2019-12-22 23:00:00</td>\n",
       "      <td>Clarkston</td>\n",
       "      <td>MI</td>\n",
       "      <td>Circle</td>\n",
       "      <td>5 minutes</td>\n",
       "      <td>7 white lights seen to the W side of the state...</td>\n",
       "      <td>2019-12-22</td>\n",
       "    </tr>\n",
       "    <tr>\n",
       "      <th>1</th>\n",
       "      <td>2019-12-22 22:15:00</td>\n",
       "      <td>Kennett Square</td>\n",
       "      <td>PA</td>\n",
       "      <td>Triangle</td>\n",
       "      <td>3min</td>\n",
       "      <td>Witness to triangle style craft. View was from...</td>\n",
       "      <td>2019-12-22</td>\n",
       "    </tr>\n",
       "    <tr>\n",
       "      <th>2</th>\n",
       "      <td>2019-12-22 21:00:00</td>\n",
       "      <td>Bethlehem</td>\n",
       "      <td>PA</td>\n",
       "      <td>Unknown</td>\n",
       "      <td>Hours</td>\n",
       "      <td>Hello, My wife and I been seeing these objects...</td>\n",
       "      <td>2019-12-22</td>\n",
       "    </tr>\n",
       "    <tr>\n",
       "      <th>3</th>\n",
       "      <td>2019-12-22 20:35:00</td>\n",
       "      <td>Fishkill</td>\n",
       "      <td>NY</td>\n",
       "      <td>Disk</td>\n",
       "      <td>1 minute</td>\n",
       "      <td>Disc Shape Hovering,  ((Starlink satellites?))</td>\n",
       "      <td>2019-12-22</td>\n",
       "    </tr>\n",
       "    <tr>\n",
       "      <th>4</th>\n",
       "      <td>2019-12-22 20:00:00</td>\n",
       "      <td>Strathroy (Canada)</td>\n",
       "      <td>ON</td>\n",
       "      <td>Light</td>\n",
       "      <td>15 minutes</td>\n",
       "      <td>Chain of white lights following each other upw...</td>\n",
       "      <td>2019-12-22</td>\n",
       "    </tr>\n",
       "  </tbody>\n",
       "</table>\n",
       "</div>"
      ],
      "text/plain": [
       "             ocorrido              cidade estado     forma     duração  \\\n",
       "0 2019-12-22 23:00:00           Clarkston     MI    Circle   5 minutes   \n",
       "1 2019-12-22 22:15:00      Kennett Square     PA  Triangle        3min   \n",
       "2 2019-12-22 21:00:00           Bethlehem     PA   Unknown       Hours   \n",
       "3 2019-12-22 20:35:00            Fishkill     NY      Disk    1 minute   \n",
       "4 2019-12-22 20:00:00  Strathroy (Canada)     ON     Light  15 minutes   \n",
       "\n",
       "                                              relato    postado  \n",
       "0  7 white lights seen to the W side of the state... 2019-12-22  \n",
       "1  Witness to triangle style craft. View was from... 2019-12-22  \n",
       "2  Hello, My wife and I been seeing these objects... 2019-12-22  \n",
       "3     Disc Shape Hovering,  ((Starlink satellites?)) 2019-12-22  \n",
       "4  Chain of white lights following each other upw... 2019-12-22  "
      ]
     },
     "execution_count": 8,
     "metadata": {},
     "output_type": "execute_result"
    }
   ],
   "source": [
    "df_dropped.head()"
   ]
  },
  {
   "cell_type": "markdown",
   "metadata": {},
   "source": [
    "### Agrupando os resultados por estado"
   ]
  },
  {
   "cell_type": "code",
   "execution_count": 9,
   "metadata": {},
   "outputs": [],
   "source": [
    "ocorrencias_por_estado = df_dropped.groupby('estado')['ocorrido'].count()"
   ]
  },
  {
   "cell_type": "code",
   "execution_count": 10,
   "metadata": {},
   "outputs": [],
   "source": [
    "ocorrencias_por_estado.sort_values(ascending=False, inplace=True)"
   ]
  },
  {
   "cell_type": "markdown",
   "metadata": {},
   "source": [
    "### Plotando os 10 estados com mais ocorrências"
   ]
  },
  {
   "cell_type": "code",
   "execution_count": 11,
   "metadata": {},
   "outputs": [
    {
     "data": {
      "text/plain": [
       "<matplotlib.axes._subplots.AxesSubplot at 0x7fa018274210>"
      ]
     },
     "execution_count": 11,
     "metadata": {},
     "output_type": "execute_result"
    },
    {
     "data": {
      "image/png": "[encoded data removed]",
      "text/plain": [
       "<Figure size 432x288 with 1 Axes>"
      ]
     },
     "metadata": {
      "needs_background": "light"
     },
     "output_type": "display_data"
    }
   ],
   "source": [
    "ocorrencias_por_estado.head(10).plot.bar(rot=0)"
   ]
  },
  {
   "cell_type": "markdown",
   "metadata": {},
   "source": [
    "### Extraindo um subset com somente com os dados da Califórnia"
   ]
  },
  {
   "cell_type": "code",
   "execution_count": 23,
   "metadata": {},
   "outputs": [],
   "source": [
    "selector = df_dropped['estado'] == \"CA\""
   ]
  },
  {
   "cell_type": "code",
   "execution_count": 24,
   "metadata": {},
   "outputs": [],
   "source": [
    "california = df_dropped[selector]"
   ]
  },
  {
   "cell_type": "code",
   "execution_count": 25,
   "metadata": {},
   "outputs": [
    {
     "data": {
      "text/html": [
       "<div>\n",
       "<style scoped>\n",
       "    .dataframe tbody tr th:only-of-type {\n",
       "        vertical-align: middle;\n",
       "    }\n",
       "\n",
       "    .dataframe tbody tr th {\n",
       "        vertical-align: top;\n",
       "    }\n",
       "\n",
       "    .dataframe thead th {\n",
       "        text-align: right;\n",
       "    }\n",
       "</style>\n",
       "<table border=\"1\" class=\"dataframe\">\n",
       "  <thead>\n",
       "    <tr style=\"text-align: right;\">\n",
       "      <th></th>\n",
       "      <th>ocorrido</th>\n",
       "      <th>cidade</th>\n",
       "      <th>estado</th>\n",
       "      <th>forma</th>\n",
       "      <th>duração</th>\n",
       "      <th>relato</th>\n",
       "      <th>postado</th>\n",
       "    </tr>\n",
       "  </thead>\n",
       "  <tbody>\n",
       "    <tr>\n",
       "      <th>21</th>\n",
       "      <td>2019-12-22 19:15:00</td>\n",
       "      <td>Anaheim Hills</td>\n",
       "      <td>CA</td>\n",
       "      <td>Circle</td>\n",
       "      <td>on now</td>\n",
       "      <td>Three fwhite ussy lights were seen traveling i...</td>\n",
       "      <td>2019-12-22</td>\n",
       "    </tr>\n",
       "    <tr>\n",
       "      <th>41</th>\n",
       "      <td>2019-12-22 18:10:00</td>\n",
       "      <td>Castro Valley</td>\n",
       "      <td>CA</td>\n",
       "      <td>Formation</td>\n",
       "      <td>5min</td>\n",
       "      <td>Lights in sky in straight line at satellite he...</td>\n",
       "      <td>2019-12-22</td>\n",
       "    </tr>\n",
       "    <tr>\n",
       "      <th>42</th>\n",
       "      <td>2019-12-22 18:00:00</td>\n",
       "      <td>Hayward</td>\n",
       "      <td>CA</td>\n",
       "      <td>Light</td>\n",
       "      <td>15 min</td>\n",
       "      <td>OBJECTS APPEAR AS SATELLITES IN FORMATION.  ((...</td>\n",
       "      <td>2019-12-22</td>\n",
       "    </tr>\n",
       "    <tr>\n",
       "      <th>43</th>\n",
       "      <td>2019-12-22 18:00:00</td>\n",
       "      <td>Salinas</td>\n",
       "      <td>CA</td>\n",
       "      <td>Light</td>\n",
       "      <td>~15min</td>\n",
       "      <td>31 UFOs seen traveling SW to NE in a mostly ev...</td>\n",
       "      <td>2019-12-22</td>\n",
       "    </tr>\n",
       "    <tr>\n",
       "      <th>44</th>\n",
       "      <td>2019-12-22 18:00:00</td>\n",
       "      <td>Santa Cruz</td>\n",
       "      <td>CA</td>\n",
       "      <td>Sphere</td>\n",
       "      <td>5 minutes</td>\n",
       "      <td>satellite like looking objects single file lin...</td>\n",
       "      <td>2019-12-22</td>\n",
       "    </tr>\n",
       "  </tbody>\n",
       "</table>\n",
       "</div>"
      ],
      "text/plain": [
       "              ocorrido         cidade estado      forma    duração  \\\n",
       "21 2019-12-22 19:15:00  Anaheim Hills     CA     Circle     on now   \n",
       "41 2019-12-22 18:10:00  Castro Valley     CA  Formation       5min   \n",
       "42 2019-12-22 18:00:00        Hayward     CA      Light     15 min   \n",
       "43 2019-12-22 18:00:00        Salinas     CA      Light     ~15min   \n",
       "44 2019-12-22 18:00:00     Santa Cruz     CA     Sphere  5 minutes   \n",
       "\n",
       "                                               relato    postado  \n",
       "21  Three fwhite ussy lights were seen traveling i... 2019-12-22  \n",
       "41  Lights in sky in straight line at satellite he... 2019-12-22  \n",
       "42  OBJECTS APPEAR AS SATELLITES IN FORMATION.  ((... 2019-12-22  \n",
       "43  31 UFOs seen traveling SW to NE in a mostly ev... 2019-12-22  \n",
       "44  satellite like looking objects single file lin... 2019-12-22  "
      ]
     },
     "execution_count": 25,
     "metadata": {},
     "output_type": "execute_result"
    }
   ],
   "source": [
    "california.head()"
   ]
  },
  {
   "cell_type": "markdown",
   "metadata": {},
   "source": [
    "### Extraindo a hora de cada ocorrência e adicionando em uma nova coluna"
   ]
  },
  {
   "cell_type": "code",
   "execution_count": 27,
   "metadata": {},
   "outputs": [],
   "source": [
    "california['hora'] = california['ocorrido'].dt.hour"
   ]
  },
  {
   "cell_type": "markdown",
   "metadata": {},
   "source": [
    "### Plotando um <code>histograma</code> para examinar a distribuição de ocorrências"
   ]
  },
  {
   "cell_type": "code",
   "execution_count": 34,
   "metadata": {},
   "outputs": [
    {
     "data": {
      "image/png": "[encoded data removed]",
      "text/plain": [
       "<Figure size 432x288 with 1 Axes>"
      ]
     },
     "metadata": {
      "needs_background": "light"
     },
     "output_type": "display_data"
    }
   ],
   "source": [
    "hora_hist = california['hora'].plot.hist(bins=12, grid=True)\n",
    "plt.xticks(range(california['hora'].min(), california['hora'].max()+1, 2))\n",
    "plt.show()"
   ]
  },
  {
   "cell_type": "markdown",
   "metadata": {},
   "source": [
    "# Desafio"
   ]
  },
  {
   "cell_type": "markdown",
   "metadata": {},
   "source": [
    "### Qual os 5 formatos de OVNI mais comuns nos relatos?"
   ]
  },
  {
   "cell_type": "code",
   "execution_count": 17,
   "metadata": {},
   "outputs": [
    {
     "data": {
      "text/plain": [
       "forma\n",
       "Light       16865\n",
       "Circle       9154\n",
       "Triangle     7280\n",
       "Fireball     6612\n",
       "Unknown      5685\n",
       "Name: ocorrido, dtype: int64"
      ]
     },
     "execution_count": 17,
     "metadata": {},
     "output_type": "execute_result"
    }
   ],
   "source": [
    "df_dropped.groupby('forma')['ocorrido'].count().sort_values(ascending=False).head()"
   ]
  },
  {
   "cell_type": "markdown",
   "metadata": {},
   "source": [
    "### Qual o horário mais difícil para avistarmos um OVNI em forma de Charuto?"
   ]
  },
  {
   "cell_type": "code",
   "execution_count": 18,
   "metadata": {},
   "outputs": [],
   "source": [
    "selector = df_dropped['forma'] == 'Cigar'"
   ]
  },
  {
   "cell_type": "code",
   "execution_count": 19,
   "metadata": {},
   "outputs": [],
   "source": [
    "charutos = df_dropped[selector]"
   ]
  },
  {
   "cell_type": "code",
   "execution_count": 35,
   "metadata": {},
   "outputs": [
    {
     "data": {
      "text/html": [
       "<div>\n",
       "<style scoped>\n",
       "    .dataframe tbody tr th:only-of-type {\n",
       "        vertical-align: middle;\n",
       "    }\n",
       "\n",
       "    .dataframe tbody tr th {\n",
       "        vertical-align: top;\n",
       "    }\n",
       "\n",
       "    .dataframe thead th {\n",
       "        text-align: right;\n",
       "    }\n",
       "</style>\n",
       "<table border=\"1\" class=\"dataframe\">\n",
       "  <thead>\n",
       "    <tr style=\"text-align: right;\">\n",
       "      <th></th>\n",
       "      <th>ocorrido</th>\n",
       "      <th>cidade</th>\n",
       "      <th>estado</th>\n",
       "      <th>forma</th>\n",
       "      <th>duração</th>\n",
       "      <th>relato</th>\n",
       "      <th>postado</th>\n",
       "      <th>hora</th>\n",
       "    </tr>\n",
       "  </thead>\n",
       "  <tbody>\n",
       "    <tr>\n",
       "      <th>85</th>\n",
       "      <td>2019-12-20 06:45:00</td>\n",
       "      <td>Evans Georgia</td>\n",
       "      <td>GA</td>\n",
       "      <td>Cigar</td>\n",
       "      <td>3 minutes</td>\n",
       "      <td>Possible jet with cigar looking Sharp no light...</td>\n",
       "      <td>2019-12-22</td>\n",
       "      <td>6</td>\n",
       "    </tr>\n",
       "    <tr>\n",
       "      <th>89</th>\n",
       "      <td>2019-12-20 06:00:00</td>\n",
       "      <td>Savannah</td>\n",
       "      <td>GA</td>\n",
       "      <td>Cigar</td>\n",
       "      <td>3 minutes</td>\n",
       "      <td>A cigar-shaped object flew overhead leaving a ...</td>\n",
       "      <td>2019-12-22</td>\n",
       "      <td>6</td>\n",
       "    </tr>\n",
       "    <tr>\n",
       "      <th>103</th>\n",
       "      <td>2019-12-19 17:04:00</td>\n",
       "      <td>Point Harbor</td>\n",
       "      <td>NC</td>\n",
       "      <td>Cigar</td>\n",
       "      <td>3 minutes</td>\n",
       "      <td>14-16 lights moving in different directions bu...</td>\n",
       "      <td>2019-12-22</td>\n",
       "      <td>17</td>\n",
       "    </tr>\n",
       "  </tbody>\n",
       "</table>\n",
       "</div>"
      ],
      "text/plain": [
       "               ocorrido         cidade estado  forma    duração  \\\n",
       "85  2019-12-20 06:45:00  Evans Georgia     GA  Cigar  3 minutes   \n",
       "89  2019-12-20 06:00:00       Savannah     GA  Cigar  3 minutes   \n",
       "103 2019-12-19 17:04:00   Point Harbor     NC  Cigar  3 minutes   \n",
       "\n",
       "                                                relato    postado  hora  \n",
       "85   Possible jet with cigar looking Sharp no light... 2019-12-22     6  \n",
       "89   A cigar-shaped object flew overhead leaving a ... 2019-12-22     6  \n",
       "103  14-16 lights moving in different directions bu... 2019-12-22    17  "
      ]
     },
     "execution_count": 35,
     "metadata": {},
     "output_type": "execute_result"
    }
   ],
   "source": [
    "charutos.head(3)"
   ]
  },
  {
   "cell_type": "code",
   "execution_count": 28,
   "metadata": {},
   "outputs": [],
   "source": [
    "charutos['hora'] = charutos['ocorrido'].dt.hour"
   ]
  },
  {
   "cell_type": "code",
   "execution_count": 33,
   "metadata": {},
   "outputs": [
    {
     "data": {
      "image/png": "[encoded data removed]",
      "text/plain": [
       "<Figure size 432x288 with 1 Axes>"
      ]
     },
     "metadata": {
      "needs_background": "light"
     },
     "output_type": "display_data"
    }
   ],
   "source": [
    "hora_hist = charutos['hora'].plot.hist(bins=12, grid=True)\n",
    "plt.xticks(range(charutos['hora'].min(), charutos['hora'].max()+1, 2))\n",
    "plt.show()"
   ]
  }
 ],
 "metadata": {
  "kernelspec": {
   "display_name": "Python 3",
   "language": "python",
   "name": "python3"
  },
  "language_info": {
   "codemirror_mode": {
    "name": "ipython",
    "version": 3
   },
   "file_extension": ".py",
   "mimetype": "text/x-python",
   "name": "python",
   "nbconvert_exporter": "python",
   "pygments_lexer": "ipython3",
   "version": "3.7.4"
  }
 },
 "nbformat": 4,
 "nbformat_minor": 4
}
